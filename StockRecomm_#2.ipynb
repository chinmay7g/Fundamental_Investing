{
 "cells": [
  {
   "cell_type": "markdown",
   "metadata": {},
   "source": [
    "# Stock Recommendation System"
   ]
  },
  {
   "cell_type": "markdown",
   "metadata": {},
   "source": [
    "##  Exploratory Data Analysis"
   ]
  },
  {
   "cell_type": "code",
   "execution_count": 25,
   "metadata": {},
   "outputs": [],
   "source": [
    "#import database\n",
    "\n",
    "import pandas as pd\n",
    "import numpy as np\n",
    "import matplotlib.pyplot as plt\n",
    "\n",
    "data = pd.read_csv(r'C:\\Users\\Administrator\\Desktop\\DATA\\Python Test Data\\stock_recomm.csv')"
   ]
  },
  {
   "cell_type": "code",
   "execution_count": 26,
   "metadata": {},
   "outputs": [],
   "source": [
    "#renaming\n",
    "\n",
    "data.rename(columns={'Unnamed: 0': 'Symbol'}, inplace=True)"
   ]
  },
  {
   "cell_type": "code",
   "execution_count": 27,
   "metadata": {},
   "outputs": [
    {
     "data": {
      "text/html": [
       "<div>\n",
       "<style scoped>\n",
       "    .dataframe tbody tr th:only-of-type {\n",
       "        vertical-align: middle;\n",
       "    }\n",
       "\n",
       "    .dataframe tbody tr th {\n",
       "        vertical-align: top;\n",
       "    }\n",
       "\n",
       "    .dataframe thead th {\n",
       "        text-align: right;\n",
       "    }\n",
       "</style>\n",
       "<table border=\"1\" class=\"dataframe\">\n",
       "  <thead>\n",
       "    <tr style=\"text-align: right;\">\n",
       "      <th></th>\n",
       "      <th>Symbol</th>\n",
       "      <th>P/B</th>\n",
       "      <th>P/E</th>\n",
       "      <th>Forward P/E</th>\n",
       "      <th>PEG</th>\n",
       "      <th>Debt/Eq</th>\n",
       "      <th>EPS (ttm)</th>\n",
       "      <th>Dividend %</th>\n",
       "      <th>ROE</th>\n",
       "      <th>ROI</th>\n",
       "    </tr>\n",
       "  </thead>\n",
       "  <tbody>\n",
       "    <tr>\n",
       "      <th>0</th>\n",
       "      <td>ACN</td>\n",
       "      <td>9.54</td>\n",
       "      <td>31.29</td>\n",
       "      <td>29.63</td>\n",
       "      <td>4.09</td>\n",
       "      <td>0.00</td>\n",
       "      <td>7.68</td>\n",
       "      <td>1.33</td>\n",
       "      <td>32.4</td>\n",
       "      <td>33.9</td>\n",
       "    </tr>\n",
       "    <tr>\n",
       "      <th>1</th>\n",
       "      <td>ADBE</td>\n",
       "      <td>22.00</td>\n",
       "      <td>65.59</td>\n",
       "      <td>44.66</td>\n",
       "      <td>4.20</td>\n",
       "      <td>0.38</td>\n",
       "      <td>7.59</td>\n",
       "      <td>NaN</td>\n",
       "      <td>35.1</td>\n",
       "      <td>20.6</td>\n",
       "    </tr>\n",
       "    <tr>\n",
       "      <th>2</th>\n",
       "      <td>AMD</td>\n",
       "      <td>27.99</td>\n",
       "      <td>156.92</td>\n",
       "      <td>47.66</td>\n",
       "      <td>4.38</td>\n",
       "      <td>0.21</td>\n",
       "      <td>0.50</td>\n",
       "      <td>NaN</td>\n",
       "      <td>21.5</td>\n",
       "      <td>12.4</td>\n",
       "    </tr>\n",
       "    <tr>\n",
       "      <th>3</th>\n",
       "      <td>AKAM</td>\n",
       "      <td>4.53</td>\n",
       "      <td>32.99</td>\n",
       "      <td>19.88</td>\n",
       "      <td>2.98</td>\n",
       "      <td>0.00</td>\n",
       "      <td>3.30</td>\n",
       "      <td>NaN</td>\n",
       "      <td>14.7</td>\n",
       "      <td>9.0</td>\n",
       "    </tr>\n",
       "    <tr>\n",
       "      <th>4</th>\n",
       "      <td>APH</td>\n",
       "      <td>6.78</td>\n",
       "      <td>30.20</td>\n",
       "      <td>27.44</td>\n",
       "      <td>10.07</td>\n",
       "      <td>0.79</td>\n",
       "      <td>3.59</td>\n",
       "      <td>0.92</td>\n",
       "      <td>24.7</td>\n",
       "      <td>15.6</td>\n",
       "    </tr>\n",
       "  </tbody>\n",
       "</table>\n",
       "</div>"
      ],
      "text/plain": [
       "  Symbol    P/B     P/E  Forward P/E    PEG  Debt/Eq  EPS (ttm)  Dividend %  \\\n",
       "0    ACN   9.54   31.29        29.63   4.09     0.00       7.68        1.33   \n",
       "1   ADBE  22.00   65.59        44.66   4.20     0.38       7.59         NaN   \n",
       "2    AMD  27.99  156.92        47.66   4.38     0.21       0.50         NaN   \n",
       "3   AKAM   4.53   32.99        19.88   2.98     0.00       3.30         NaN   \n",
       "4    APH   6.78   30.20        27.44  10.07     0.79       3.59        0.92   \n",
       "\n",
       "    ROE   ROI  \n",
       "0  32.4  33.9  \n",
       "1  35.1  20.6  \n",
       "2  21.5  12.4  \n",
       "3  14.7   9.0  \n",
       "4  24.7  15.6  "
      ]
     },
     "execution_count": 27,
     "metadata": {},
     "output_type": "execute_result"
    }
   ],
   "source": [
    "data.head()"
   ]
  },
  {
   "cell_type": "code",
   "execution_count": 28,
   "metadata": {},
   "outputs": [],
   "source": [
    "#importing libraries\n",
    "\n",
    "import matplotlib.pyplot as plt\n",
    "import seaborn as sns"
   ]
  },
  {
   "cell_type": "markdown",
   "metadata": {},
   "source": [
    "### Descriptive Summary"
   ]
  },
  {
   "cell_type": "code",
   "execution_count": 29,
   "metadata": {},
   "outputs": [
    {
     "name": "stdout",
     "output_type": "stream",
     "text": [
      "<class 'pandas.core.frame.DataFrame'>\n",
      "RangeIndex: 71 entries, 0 to 70\n",
      "Data columns (total 10 columns):\n",
      "Symbol         71 non-null object\n",
      "P/B            65 non-null float64\n",
      "P/E            68 non-null float64\n",
      "Forward P/E    71 non-null float64\n",
      "PEG            65 non-null float64\n",
      "Debt/Eq        65 non-null float64\n",
      "EPS (ttm)      71 non-null float64\n",
      "Dividend %     45 non-null float64\n",
      "ROE            68 non-null float64\n",
      "ROI            71 non-null float64\n",
      "dtypes: float64(9), object(1)\n",
      "memory usage: 5.6+ KB\n"
     ]
    }
   ],
   "source": [
    "data.info()"
   ]
  },
  {
   "cell_type": "code",
   "execution_count": 30,
   "metadata": {},
   "outputs": [
    {
     "data": {
      "text/html": [
       "<div>\n",
       "<style scoped>\n",
       "    .dataframe tbody tr th:only-of-type {\n",
       "        vertical-align: middle;\n",
       "    }\n",
       "\n",
       "    .dataframe tbody tr th {\n",
       "        vertical-align: top;\n",
       "    }\n",
       "\n",
       "    .dataframe thead th {\n",
       "        text-align: right;\n",
       "    }\n",
       "</style>\n",
       "<table border=\"1\" class=\"dataframe\">\n",
       "  <thead>\n",
       "    <tr style=\"text-align: right;\">\n",
       "      <th></th>\n",
       "      <th>P/B</th>\n",
       "      <th>P/E</th>\n",
       "      <th>Forward P/E</th>\n",
       "      <th>PEG</th>\n",
       "      <th>Debt/Eq</th>\n",
       "      <th>EPS (ttm)</th>\n",
       "      <th>Dividend %</th>\n",
       "      <th>ROE</th>\n",
       "      <th>ROI</th>\n",
       "    </tr>\n",
       "  </thead>\n",
       "  <tbody>\n",
       "    <tr>\n",
       "      <th>count</th>\n",
       "      <td>65.000000</td>\n",
       "      <td>68.000000</td>\n",
       "      <td>71.000000</td>\n",
       "      <td>65.000000</td>\n",
       "      <td>65.000000</td>\n",
       "      <td>71.000000</td>\n",
       "      <td>45.000000</td>\n",
       "      <td>68.000000</td>\n",
       "      <td>71.000000</td>\n",
       "    </tr>\n",
       "    <tr>\n",
       "      <th>mean</th>\n",
       "      <td>22.388769</td>\n",
       "      <td>79.578088</td>\n",
       "      <td>25.100704</td>\n",
       "      <td>7.718769</td>\n",
       "      <td>1.330308</td>\n",
       "      <td>3.497324</td>\n",
       "      <td>2.192889</td>\n",
       "      <td>4.750000</td>\n",
       "      <td>22.646479</td>\n",
       "    </tr>\n",
       "    <tr>\n",
       "      <th>std</th>\n",
       "      <td>93.655096</td>\n",
       "      <td>207.667868</td>\n",
       "      <td>15.706144</td>\n",
       "      <td>17.722137</td>\n",
       "      <td>3.303632</td>\n",
       "      <td>4.151990</td>\n",
       "      <td>1.405775</td>\n",
       "      <td>127.313048</td>\n",
       "      <td>38.135566</td>\n",
       "    </tr>\n",
       "    <tr>\n",
       "      <th>min</th>\n",
       "      <td>0.730000</td>\n",
       "      <td>9.200000</td>\n",
       "      <td>4.770000</td>\n",
       "      <td>0.830000</td>\n",
       "      <td>0.000000</td>\n",
       "      <td>-22.470000</td>\n",
       "      <td>0.120000</td>\n",
       "      <td>-862.900000</td>\n",
       "      <td>-35.300000</td>\n",
       "    </tr>\n",
       "    <tr>\n",
       "      <th>25%</th>\n",
       "      <td>3.620000</td>\n",
       "      <td>22.932500</td>\n",
       "      <td>13.955000</td>\n",
       "      <td>2.530000</td>\n",
       "      <td>0.030000</td>\n",
       "      <td>2.090000</td>\n",
       "      <td>1.250000</td>\n",
       "      <td>8.750000</td>\n",
       "      <td>9.100000</td>\n",
       "    </tr>\n",
       "    <tr>\n",
       "      <th>50%</th>\n",
       "      <td>6.950000</td>\n",
       "      <td>32.840000</td>\n",
       "      <td>20.610000</td>\n",
       "      <td>3.790000</td>\n",
       "      <td>0.470000</td>\n",
       "      <td>3.320000</td>\n",
       "      <td>1.700000</td>\n",
       "      <td>22.200000</td>\n",
       "      <td>17.800000</td>\n",
       "    </tr>\n",
       "    <tr>\n",
       "      <th>75%</th>\n",
       "      <td>13.380000</td>\n",
       "      <td>55.532500</td>\n",
       "      <td>33.995000</td>\n",
       "      <td>5.380000</td>\n",
       "      <td>1.200000</td>\n",
       "      <td>5.330000</td>\n",
       "      <td>2.860000</td>\n",
       "      <td>38.825000</td>\n",
       "      <td>23.050000</td>\n",
       "    </tr>\n",
       "    <tr>\n",
       "      <th>max</th>\n",
       "      <td>760.870000</td>\n",
       "      <td>1614.130000</td>\n",
       "      <td>86.730000</td>\n",
       "      <td>128.750000</td>\n",
       "      <td>24.310000</td>\n",
       "      <td>15.120000</td>\n",
       "      <td>5.490000</td>\n",
       "      <td>249.500000</td>\n",
       "      <td>305.700000</td>\n",
       "    </tr>\n",
       "  </tbody>\n",
       "</table>\n",
       "</div>"
      ],
      "text/plain": [
       "              P/B          P/E  Forward P/E         PEG    Debt/Eq  EPS (ttm)  \\\n",
       "count   65.000000    68.000000    71.000000   65.000000  65.000000  71.000000   \n",
       "mean    22.388769    79.578088    25.100704    7.718769   1.330308   3.497324   \n",
       "std     93.655096   207.667868    15.706144   17.722137   3.303632   4.151990   \n",
       "min      0.730000     9.200000     4.770000    0.830000   0.000000 -22.470000   \n",
       "25%      3.620000    22.932500    13.955000    2.530000   0.030000   2.090000   \n",
       "50%      6.950000    32.840000    20.610000    3.790000   0.470000   3.320000   \n",
       "75%     13.380000    55.532500    33.995000    5.380000   1.200000   5.330000   \n",
       "max    760.870000  1614.130000    86.730000  128.750000  24.310000  15.120000   \n",
       "\n",
       "       Dividend %         ROE         ROI  \n",
       "count   45.000000   68.000000   71.000000  \n",
       "mean     2.192889    4.750000   22.646479  \n",
       "std      1.405775  127.313048   38.135566  \n",
       "min      0.120000 -862.900000  -35.300000  \n",
       "25%      1.250000    8.750000    9.100000  \n",
       "50%      1.700000   22.200000   17.800000  \n",
       "75%      2.860000   38.825000   23.050000  \n",
       "max      5.490000  249.500000  305.700000  "
      ]
     },
     "execution_count": 30,
     "metadata": {},
     "output_type": "execute_result"
    }
   ],
   "source": [
    "data.describe()"
   ]
  },
  {
   "cell_type": "markdown",
   "metadata": {},
   "source": [
    "### Missing values"
   ]
  },
  {
   "cell_type": "code",
   "execution_count": 31,
   "metadata": {},
   "outputs": [
    {
     "name": "stdout",
     "output_type": "stream",
     "text": [
      "Symbol          0\n",
      "P/B             6\n",
      "P/E             3\n",
      "Forward P/E     0\n",
      "PEG             6\n",
      "Debt/Eq         6\n",
      "EPS (ttm)       0\n",
      "Dividend %     26\n",
      "ROE             3\n",
      "ROI             0\n",
      "dtype: int64\n"
     ]
    }
   ],
   "source": [
    "print(data.isnull().sum())"
   ]
  },
  {
   "cell_type": "code",
   "execution_count": 32,
   "metadata": {},
   "outputs": [
    {
     "data": {
      "text/plain": [
       "(71, 10)"
      ]
     },
     "execution_count": 32,
     "metadata": {},
     "output_type": "execute_result"
    }
   ],
   "source": [
    "data.shape"
   ]
  },
  {
   "cell_type": "markdown",
   "metadata": {},
   "source": [
    "### Distribution"
   ]
  },
  {
   "cell_type": "code",
   "execution_count": 33,
   "metadata": {},
   "outputs": [
    {
     "data": {
      "text/plain": [
       "<Figure size 1008x432 with 0 Axes>"
      ]
     },
     "metadata": {},
     "output_type": "display_data"
    },
    {
     "data": {
      "image/png": "[encoded data removed]",
      "text/plain": [
       "<Figure size 432x288 with 9 Axes>"
      ]
     },
     "metadata": {
      "needs_background": "light"
     },
     "output_type": "display_data"
    }
   ],
   "source": [
    "plt.figure(figsize=[14,6])\n",
    "data.hist()\n",
    "plt.tight_layout()"
   ]
  },
  {
   "cell_type": "markdown",
   "metadata": {},
   "source": [
    "### Outlier Detection"
   ]
  },
  {
   "cell_type": "code",
   "execution_count": 34,
   "metadata": {},
   "outputs": [
    {
     "data": {
      "text/plain": [
       "<matplotlib.axes._subplots.AxesSubplot at 0x1f2678b4c48>"
      ]
     },
     "execution_count": 34,
     "metadata": {},
     "output_type": "execute_result"
    },
    {
     "data": {
      "image/png": "[encoded data removed]",
      "text/plain": [
       "<Figure size 1008x432 with 1 Axes>"
      ]
     },
     "metadata": {
      "needs_background": "light"
     },
     "output_type": "display_data"
    }
   ],
   "source": [
    "plt.figure(figsize=[14,6])\n",
    "data.boxplot()"
   ]
  },
  {
   "cell_type": "markdown",
   "metadata": {},
   "source": [
    "#### It is observed that much of the variables are skewed and have outliers. Also the dividend column has missing values"
   ]
  },
  {
   "cell_type": "markdown",
   "metadata": {},
   "source": [
    "#### Since much of the data for Dividend % column seems to be centred around the mean, the missing values can be imputed\n",
    "#### with the mean of the Dividend% column"
   ]
  },
  {
   "cell_type": "code",
   "execution_count": 35,
   "metadata": {},
   "outputs": [],
   "source": [
    "#Replacing\n",
    "data['Dividend %'].fillna(data['Dividend %'].mean(), inplace=True)"
   ]
  },
  {
   "cell_type": "markdown",
   "metadata": {},
   "source": [
    "#### For PEG, ROE column since data is not much centred around the mean, it cannot be imputed with mean values"
   ]
  },
  {
   "cell_type": "code",
   "execution_count": 38,
   "metadata": {},
   "outputs": [],
   "source": [
    "data.dropna(axis=0, inplace=True)"
   ]
  },
  {
   "cell_type": "code",
   "execution_count": 39,
   "metadata": {},
   "outputs": [
    {
     "data": {
      "text/plain": [
       "Symbol         0\n",
       "P/B            0\n",
       "P/E            0\n",
       "Forward P/E    0\n",
       "PEG            0\n",
       "Debt/Eq        0\n",
       "EPS (ttm)      0\n",
       "Dividend %     0\n",
       "ROE            0\n",
       "ROI            0\n",
       "dtype: int64"
      ]
     },
     "execution_count": 39,
     "metadata": {},
     "output_type": "execute_result"
    }
   ],
   "source": [
    "# checking missing values again\n",
    "\n",
    "data.isnull().sum()"
   ]
  },
  {
   "cell_type": "code",
   "execution_count": 41,
   "metadata": {},
   "outputs": [
    {
     "data": {
      "text/plain": [
       "(58, 10)"
      ]
     },
     "execution_count": 41,
     "metadata": {},
     "output_type": "execute_result"
    }
   ],
   "source": [
    "data.shape"
   ]
  },
  {
   "cell_type": "code",
   "execution_count": null,
   "metadata": {},
   "outputs": [],
   "source": []
  }
 ],
 "metadata": {
  "kernelspec": {
   "display_name": "Python 3",
   "language": "python",
   "name": "python3"
  },
  "language_info": {
   "codemirror_mode": {
    "name": "ipython",
    "version": 3
   },
   "file_extension": ".py",
   "mimetype": "text/x-python",
   "name": "python",
   "nbconvert_exporter": "python",
   "pygments_lexer": "ipython3",
   "version": "3.7.4"
  }
 },
 "nbformat": 4,
 "nbformat_minor": 2
}
